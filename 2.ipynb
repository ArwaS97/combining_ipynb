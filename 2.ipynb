{
 "cells": [
  {
   "cell_type": "markdown",
   "metadata": {},
   "source": [
    "## Part 2\n",
    "# DNA Recursive Permutations"
   ]
  },
  {
   "cell_type": "code",
   "execution_count": 2,
   "metadata": {},
   "outputs": [
    {
     "name": "stdout",
     "output_type": "stream",
     "text": [
      "['TGC', 'TCG', 'GTC', 'GCT', 'CTG', 'CGT']\n"
     ]
    }
   ],
   "source": [
    "drug = \"TGC\"\n",
    "\n",
    "def permute (s):\n",
    "    \"\"\"\n",
    "    Takes a string and returns a list of all possible permutations of that string\n",
    "    \"\"\"\n",
    "    if len(s) == 1: #base case\n",
    "        return [s]\n",
    "    \n",
    "    permlist = []\n",
    "    \n",
    "    for i, letter in enumerate (s):\n",
    "        rest_of_string = s[0:i] + s[i+1:]\n",
    "        #print(\"letter, rest of string:\", letter, rest_of_string)\n",
    "        \n",
    "        for permutation in permute(rest_of_string):     \n",
    "            #print (\"permutation:\", permutation)\n",
    "            if letter+permutation not in permlist:\n",
    "                #print (\"adding\", letter+permutation, \"to permlist\")\n",
    "                permlist.append(letter + permutation)\n",
    "            #print (\"permlist=\",permlist, \"\\n\\n\")\n",
    "    return permlist\n",
    "\n",
    "print (permute(drug))"
   ]
  }
 ],
 "metadata": {
  "kernelspec": {
   "display_name": "Python 3",
   "language": "python",
   "name": "python3"
  },
  "language_info": {
   "codemirror_mode": {
    "name": "ipython",
    "version": 3
   },
   "file_extension": ".py",
   "mimetype": "text/x-python",
   "name": "python",
   "nbconvert_exporter": "python",
   "pygments_lexer": "ipython3",
   "version": "3.6.4"
  }
 },
 "nbformat": 4,
 "nbformat_minor": 2
}
