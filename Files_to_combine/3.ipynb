{
 "cells": [
  {
   "cell_type": "markdown",
   "metadata": {},
   "source": [
    "## Part 3\n",
    "# Merging Jupyter Notebooks\n",
    "\n",
    "http://jsonlint.com/\n",
    "\n",
    "You can write your own Python program to concatenate ipynb files!\n",
    "\n",
    "Each .ipynb notebook is JSON.\n",
    "Make a list of the names of the notebooks you want to merge (they should be in the same folder where this notebook is).  \n",
    "\n",
    "Then, load the content of each file into a list.\n",
    "\n",
    "Below, I use the first notebook as my template and add the cells of the other notebooks to it.\n",
    "\n",
    "But, first I encourage you to study the structure of an .ipynb a little.  Download a program called ATOM and open the .ipynb file with it.  Examine it and determine what makes a .ipynb notebook.  You will quickly realize what you need to load from the subsequent notebooks and add to your template.\n",
    "\n",
    "Once your edited template is ready you can write the JSON as a new .ipynb and you are done!  This will create a compiled .ipynb.\n",
    "\n",
    "#### Sources:\n",
    "http://stackoverflow.com/questions/20454668/how-to-merge-two-ipython-notebooks-correctly-without-getting-json-error\n",
    "\n",
    "#### Comments:\n",
    "After loading an .ipynb file (i.e. a = json.load(f)), a is in the format of a dictionary with four keys (dict_keys(['cells', 'metadata', 'nbformat', 'nbformat_minor'])). The value for each key is a list of dictionaries.\n",
    "\n",
    "-a is a dictionary\n",
    "-a['cells'] is a list of dictionaries\n",
    "-a['cells'][0] is a dictionary containing information about the first cell in a jupyter notebook.\n",
    "\n",
    "It looks like the information for each cell in a Jupyter notebook is in a['cells'] and the rest is generall jupyter notebook formatting, so in this problem I loaded the first notebook into the variable a and then for each subsequent notebook I added just the 'cells' information to the variable a. "
   ]
  },
  {
   "cell_type": "code",
   "execution_count": 5,
   "metadata": {},
   "outputs": [
    {
     "name": "stdout",
     "output_type": "stream",
     "text": [
      "['1.ipynb', '2.ipynb', '3.ipynb', '4.ipynb', '5.ipynb', '6.ipynb', '7.ipynb']\n"
     ]
    }
   ],
   "source": [
    "import json\n",
    "import os\n",
    "\n",
    "# name of my output file\n",
    "output_file_name = 'Combined.ipynb'\n",
    "\n",
    "# list of files to be merged; should be in the order in which you want the notebooks to be merged\n",
    "notebooks_to_merge = [file for file in os.listdir(os.getcwd()) if file.endswith('.ipynb')]\n",
    "    # all of the .ipynb files I want to merge are in one folder\n",
    "    \n",
    "notebooks_to_merge.sort() # because my notebooks are labeled 1.ipynb,2.ipynb... in the order I want\n",
    "\n",
    "print(notebooks_to_merge)\n"
   ]
  },
  {
   "cell_type": "code",
   "execution_count": 6,
   "metadata": {},
   "outputs": [],
   "source": [
    "with open (notebooks_to_merge[0], mode = 'r', encoding = 'utf-8') as f:\n",
    "    a = json.load (f)\n",
    "    \n",
    "for notebook in notebooks_to_merge[1:]:\n",
    "    with open (notebook, mode = 'r', encoding = 'utf-8') as f:\n",
    "        b = json.load(f)\n",
    "        a['cells'].extend (b['cells']) \n",
    "            # extend here, not append, so that each dictionary in b['cells']\n",
    "            # is added to new dictionary in a['cells']\n",
    "\n",
    "with open(output_file_name, mode='w', encoding='utf-8') as f:\n",
    "    json.dump(a, f) \n"
   ]
  },
  {
   "cell_type": "code",
   "execution_count": null,
   "metadata": {},
   "outputs": [],
   "source": []
  }
 ],
 "metadata": {
  "kernelspec": {
   "display_name": "Python 3",
   "language": "python",
   "name": "python3"
  },
  "language_info": {
   "codemirror_mode": {
    "name": "ipython",
    "version": 3
   },
   "file_extension": ".py",
   "mimetype": "text/x-python",
   "name": "python",
   "nbconvert_exporter": "python",
   "pygments_lexer": "ipython3",
   "version": "3.6.4"
  }
 },
 "nbformat": 4,
 "nbformat_minor": 2
}
