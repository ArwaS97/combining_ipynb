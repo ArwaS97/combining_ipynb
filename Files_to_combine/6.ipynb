{
 "cells": [
  {
   "cell_type": "markdown",
   "metadata": {},
   "source": [
    "## Problem 6\n",
    "\n",
    "# More JSON\n",
    "\n",
    "\n",
    "### Sources:\n",
    "https://www.infoplease.com/life-expectancy-birth-race-and-sex-1930-2010"
   ]
  },
  {
   "cell_type": "code",
   "execution_count": 1,
   "metadata": {},
   "outputs": [],
   "source": [
    "import json\n",
    "d = [{\"value\":65259,\"name\":\"White\"},\n",
    "{\"value\":11589,\"name\":\"Black\"},\n",
    "{\"value\":159,\"name\":\"American Indian or Alaska Native\"},\n",
    "{\"value\":15849,\"name\":\"Asian or Pacific Islander\"},\n",
    "{\"value\":7974,\"name\":\"Hispanic\"},\n",
    "{\"value\":4332,\"name\":\"Other Non-Hispanic\"}]\n",
    "\n",
    "with open('cambridge.json', mode='w', encoding='utf-8') as f:\n",
    "    f.write(\"var data = \") #Kaleigh added this so cambridge.html can work\n",
    "    json.dump (d, f)"
   ]
  },
  {
   "cell_type": "markdown",
   "metadata": {},
   "source": [
    "Ok! Now you should see in your folder that we generated this list of dictionaries called d.  You may be wondering why I made it in this format.\n",
    "We will be using this json file to visualize this data.\n",
    "For that we ill use a tool called d3plus.\n",
    "You may have heard of d3, a powerful Javascript visualization library.\n",
    "d3 is a bit complex to get into, but d3plus is a nice wrapper with multiple powerful visualizations that you can use immediatly.\n",
    "\n",
    "d3plus was developed by my friend Cesar Hidalgo's team,at the MIT Media Lab.  \n",
    "\n",
    "You can learn more about their awesome projects here:\n",
    "https://www.media.mit.edu/research/groups/macro-connections\n",
    "\n",
    "you can learn more about d3plus here:\n",
    "\n",
    "https://d3plus.org/\n",
    "\n",
    "Ok, I have a file called cambridge.html and you can see how I loaded the Cambridge 2010 census data.  Open it!\n",
    "Cool right?!\n",
    "That's not much code for a pretty nice interactive graph. \n",
    "\n",
    "\n",
    "Important things to note:\n",
    "\n",
    "If the json is hosted by a webserver you can access the file directly, but you can't access the file directly with Javascript (in all browsers) due to browser security issues.  Imagine if you go on a website and the website just loads a file from your Documents, that would not be fun.\n",
    "\n",
    "For the time being, and for this problem Kaleigh made a solution which allows the generated \"json\" to be loaded in the cambridge.html file.\n"
   ]
  },
  {
   "cell_type": "markdown",
   "metadata": {},
   "source": [
    "### Your job\n",
    "### Find some cool data\n",
    "### Pick a new chart from the d3plus website\n",
    "### Generate your JSON with Python\n",
    "### Make your .html and submit it to us"
   ]
  },
  {
   "cell_type": "code",
   "execution_count": 2,
   "metadata": {},
   "outputs": [],
   "source": [
    "import json\n",
    "d = [{\"year\": 1930, \"gender\": \"male\", \"life expectancy at birth (years)\": 58.1},\n",
    "     {\"year\": 1930, \"gender\": \"female\", \"life expectancy at birth (years)\": 61.6},\n",
    "     {\"year\": 1940, \"gender\": \"male\", \"life expectancy at birth (years)\": 60.8},\n",
    "     {\"year\": 1940, \"gender\": \"female\", \"life expectancy at birth (years)\": 65.2},\n",
    "     {\"year\": 1950, \"gender\": \"male\", \"life expectancy at birth (years)\": 65.6},\n",
    "     {\"year\": 1950, \"gender\": \"female\", \"life expectancy at birth (years)\": 71.1},\n",
    "     {\"year\": 1960, \"gender\": \"male\", \"life expectancy at birth (years)\": 66.6},\n",
    "     {\"year\": 1960, \"gender\": \"female\", \"life expectancy at birth (years)\": 73.1},\n",
    "     {\"year\": 1970, \"gender\": \"male\", \"life expectancy at birth (years)\": 67.1},\n",
    "     {\"year\": 1970, \"gender\": \"female\", \"life expectancy at birth (years)\": 74.7},\n",
    "     {\"year\": 1980, \"gender\": \"male\", \"life expectancy at birth (years)\": 70.0},\n",
    "     {\"year\": 1980, \"gender\": \"female\", \"life expectancy at birth (years)\": 77.4},\n",
    "     {\"year\": 1990, \"gender\": \"male\", \"life expectancy at birth (years)\": 71.8},\n",
    "     {\"year\": 1990, \"gender\": \"female\", \"life expectancy at birth (years)\": 78.8},\n",
    "     {\"year\": 2000, \"gender\": \"male\", \"life expectancy at birth (years)\": 74.3},\n",
    "     {\"year\": 2000, \"gender\": \"female\", \"life expectancy at birth (years)\": 79.7},\n",
    "     {\"year\": 2010, \"gender\": \"male\", \"life expectancy at birth (years)\": 76.2},\n",
    "     {\"year\": 2010, \"gender\": \"female\", \"life expectancy at birth (years)\": 81.1}]\n",
    "\n",
    "\n",
    "with open('uslifeexpectancy.json', mode='w', encoding='utf-8') as f:\n",
    "    f.write(\"var data = \") \n",
    "    json.dump (d, f)\n"
   ]
  }
 ],
 "metadata": {
  "anaconda-cloud": {},
  "kernelspec": {
   "display_name": "Python 3",
   "language": "python",
   "name": "python3"
  },
  "language_info": {
   "codemirror_mode": {
    "name": "ipython",
    "version": 3
   },
   "file_extension": ".py",
   "mimetype": "text/x-python",
   "name": "python",
   "nbconvert_exporter": "python",
   "pygments_lexer": "ipython3",
   "version": "3.6.4"
  }
 },
 "nbformat": 4,
 "nbformat_minor": 2
}
