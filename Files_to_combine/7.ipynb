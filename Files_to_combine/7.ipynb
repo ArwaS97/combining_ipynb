{
 "cells": [
  {
   "cell_type": "markdown",
   "metadata": {},
   "source": [
    "## Problem 7\n",
    "\n",
    "# Reverse Select Strings\n",
    "\n",
    "### Description:"
   ]
  },
  {
   "cell_type": "markdown",
   "metadata": {},
   "source": [
    "Write a recursive function that does the following:  \n",
    "\n",
    "Given:  a list of strings and a string   \n",
    "Returns:  the input list of strings, with all occurances of the input string replaced with its reverse string.\n",
    "\n",
    "#### Examples  \n",
    "Given: [] , \"abc\"   \n",
    "Return: []  \n",
    "  \n",
    "Given: [\"abc\", \"def\"] , \"xyz\"  \n",
    "Return: [\"abc\", \"def\"]  \n",
    "\n",
    "**Your submission needs to display the output for this example:**    \n",
    "Given: [\"abc\", \"def\", \"xyz\", \"abc\", \"xyz\", \"lmn\"] , \"abc\"    \n",
    "Return: [\"cba\", \"def\", \"xyz\", \"cba\", \"xyz\", \"lmn\"]  \n",
    "\n",
    "\n"
   ]
  },
  {
   "cell_type": "markdown",
   "metadata": {},
   "source": [
    "### Solution"
   ]
  },
  {
   "cell_type": "code",
   "execution_count": 2,
   "metadata": {},
   "outputs": [
    {
     "data": {
      "text/plain": [
       "['cba', 'def', 'xyz', 'cba', 'xyz', 'lmn']"
      ]
     },
     "execution_count": 2,
     "metadata": {},
     "output_type": "execute_result"
    }
   ],
   "source": [
    "def reverse_string (list_of_strings, string):\n",
    "    ''' takes a list of strings and a string and returns the list of strings but with all \n",
    "    occurrences of the input string (the second argument) replaced with its reverse string'''\n",
    "    if list_of_strings == []:\n",
    "        return []\n",
    "    elif string == '':\n",
    "        return list_of_strings\n",
    "    else:\n",
    "        if string == list_of_strings[0]:\n",
    "            return [string[::-1]] + reverse_string (list_of_strings [1:], string)\n",
    "        else:\n",
    "            return [list_of_strings[0]] + reverse_string(list_of_strings[1:], string)\n",
    "\n",
    "reverse_string([\"abc\", \"def\", \"xyz\", \"abc\", \"xyz\", \"lmn\"] , \"abc\")\n",
    "        "
   ]
  }
 ],
 "metadata": {
  "anaconda-cloud": {},
  "kernelspec": {
   "display_name": "Python 3",
   "language": "python",
   "name": "python3"
  },
  "language_info": {
   "codemirror_mode": {
    "name": "ipython",
    "version": 3
   },
   "file_extension": ".py",
   "mimetype": "text/x-python",
   "name": "python",
   "nbconvert_exporter": "python",
   "pygments_lexer": "ipython3",
   "version": "3.6.4"
  }
 },
 "nbformat": 4,
 "nbformat_minor": 1
}
