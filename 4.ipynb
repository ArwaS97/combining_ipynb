{
 "cells": [
  {
   "cell_type": "markdown",
   "metadata": {},
   "source": [
    "# Problem 4\n",
    "## Change\n"
   ]
  },
  {
   "cell_type": "markdown",
   "metadata": {},
   "source": [
    "When you buy something at a store (if you still use cash), it's not too hard to count back the change you are owed.  But, what if our money supply didn't have all the nice easy to count multiples of 5.  What if we had coins worth 1 cent, 3 cents, 17 cents, 53 cents, and bills worth 101 cents, 199 cents, 503 cents, and 911 cents.\n",
    "\n",
    "Your task is to write a recursive function which takes in the amount of change needed to be made, and returns a Counter object with key/value pairs that each denote the denomination and relative quantity required to make change.\n",
    "\n",
    "And remember, people in this make-believe place of unusual denominations don't want to carry around more small denominations than necessary (much like here).  Your function should maximize the number of the largest coins and bills that are returned for change.  Don't give someone all pennies!\n",
    "\n",
    "As an example,\n",
    "change(100) produces the output:\n",
    "\n",
    "Counter({3: 4, 17: 2, 53: 1, 1: 1})\n",
    "\n",
    "The above is penny x 1, three-cent pieces x 4, seventeen-cent pieces x 2, and fifty-three cent pieces x 1. \n",
    "1 + 12 + 34 + 53 = 100 :-)\n",
    "\n",
    "#### Sources:\n",
    "http://stackoverflow.com/questions/26583381/how-to-use-reduce-with-dictionary\n",
    "\n",
    "#### Comments: \n",
    "At first I couldn't figure out how to have currency defined inside the function (rather than passing it as an argument into the function). I eventually found a way below, I'm sure there's a better way..."
   ]
  },
  {
   "cell_type": "code",
   "execution_count": 1,
   "metadata": {},
   "outputs": [],
   "source": [
    "from collections import Counter\n",
    "from functools import reduce"
   ]
  },
  {
   "cell_type": "code",
   "execution_count": 2,
   "metadata": {},
   "outputs": [
    {
     "name": "stdout",
     "output_type": "stream",
     "text": [
      "Counter({3: 4, 17: 2, 53: 1, 1: 1})\n"
     ]
    }
   ],
   "source": [
    "def change(amount):\n",
    "    '''takes in an amount of change needed to be made, and returns a Counter object with key/value pairs\n",
    "    each denoting the denomination and relative quantity needed to make the change'''\n",
    "    \n",
    "    currency = [1,3,17,53,101,199,503,911]\n",
    "    c = Counter()\n",
    "    \n",
    "    if amount == 0:\n",
    "        return c\n",
    "    \n",
    "    else:\n",
    "        changecurrency = [denom for denom in currency if amount/denom >= 1] \n",
    "            # new list that only includes denominations smaller than amount\n",
    "        largest = changecurrency.pop()\n",
    "            # the largest list in the new item \n",
    "            # (since currency is in order from smallest to largest)\n",
    "        c.update ({largest: int(amount/largest)})\n",
    "        new_amount = amount - largest * int(amount/largest)\n",
    "        return c + change (new_amount)\n",
    "        \n",
    "test = change(100)\n",
    "print (test)"
   ]
  },
  {
   "cell_type": "markdown",
   "metadata": {},
   "source": [
    "# Checking our work\n",
    "\n",
    "A normal person will count their change once they've received it.  In this part, you need to write code that will take the items in your dictionary and use them to calculate how much money you've received.\n",
    "\n",
    "Use a reduce statement and a lambda expression to sum the product of your keys and values for the dictionary returned by your change function."
   ]
  },
  {
   "cell_type": "code",
   "execution_count": 3,
   "metadata": {},
   "outputs": [
    {
     "data": {
      "text/plain": [
       "100"
      ]
     },
     "execution_count": 3,
     "metadata": {},
     "output_type": "execute_result"
    }
   ],
   "source": [
    "reduce (lambda x, key: x + key*test[key], test, 0)"
   ]
  },
  {
   "cell_type": "markdown",
   "metadata": {},
   "source": [
    "### This is the code I wrote where the currency is also passed into the function\n",
    "\n",
    "currency = [1,3,17,53,101,199,503,911]\n",
    "\n",
    "def change(amount, currency):\n",
    "    '''takes in an amount of change needed to be made, and returns a Counter object with key/value pairs\n",
    "    each denoting the denomination and relative quantity needed to make the change'''\n",
    "    c = Counter()\n",
    "    \n",
    "    if amount == 0:\n",
    "        return c\n",
    "    \n",
    "    else:\n",
    "        largest = currency.pop()\n",
    "        if amount / largest >= 1:\n",
    "            c.update ({largest: int(amount/largest)})\n",
    "            new_amount = amount - largest * int(amount/largest)\n",
    "            return c + change (new_amount, currency)\n",
    "        else:\n",
    "            return change (amount, currency)\n",
    "        \n",
    "test = change(100, [1,3,17,53,101,199,503,911])\n",
    "\n",
    "print (test)\n",
    "\n",
    "Counter ({3: 4, 17: 2, 53: 1, 1: 1})"
   ]
  },
  {
   "cell_type": "code",
   "execution_count": null,
   "metadata": {},
   "outputs": [],
   "source": []
  }
 ],
 "metadata": {
  "kernelspec": {
   "display_name": "Python 3",
   "language": "python",
   "name": "python3"
  },
  "language_info": {
   "codemirror_mode": {
    "name": "ipython",
    "version": 3
   },
   "file_extension": ".py",
   "mimetype": "text/x-python",
   "name": "python",
   "nbconvert_exporter": "python",
   "pygments_lexer": "ipython3",
   "version": "3.6.4"
  }
 },
 "nbformat": 4,
 "nbformat_minor": 1
}
