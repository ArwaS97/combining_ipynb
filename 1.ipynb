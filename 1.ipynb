{
 "cells": [
  {
   "cell_type": "markdown",
   "metadata": {},
   "source": [
    "# Problem Set 4\n",
    "\n",
    "### CSCI-E7 Spring 2017\n",
    "#### Due Date: 170416\n",
    "#### Name: Danielle Crumley\n"
   ]
  },
  {
   "cell_type": "markdown",
   "metadata": {},
   "source": [
    "## Part 1\n",
    "\n",
    "\n",
    "Write a recursive function called findMin that takes a list or a tuple, and returns the smallest value in that structure. \n",
    "\n",
    "For example:\n",
    "print (findMin(5,2,3,1))\n",
    "should produce the output:\n",
    "1\n",
    "\n",
    "Submit your solution by testing the given, test_string\n"
   ]
  },
  {
   "cell_type": "code",
   "execution_count": 1,
   "metadata": {},
   "outputs": [
    {
     "name": "stdout",
     "output_type": "stream",
     "text": [
      "-5\n",
      "-5\n",
      "1\n"
     ]
    }
   ],
   "source": [
    "test_string = (6,66,3,0,-5,7,444,3)\n",
    "test_list = [6,66,3,0,-5,7,444,3]\n",
    "\n",
    "def findMin(a):\n",
    "    \"\"\"\n",
    "    Returns the smallest value in the list or tuple (a) of numbers\n",
    "    \"\"\"\n",
    "    a = list(a)\n",
    "    \n",
    "    if len(a) == 1: # base case\n",
    "        return (a[0])\n",
    "\n",
    "    else: #recursive case - compare the values at 0th and 1st indices and remove the larger value\n",
    "        index0 = a[0]\n",
    "        index1 = a[1]\n",
    "        if index0 < index1:\n",
    "            a.remove(index1)\n",
    "        else:\n",
    "            a.remove(index0)\n",
    "        return findMin (a)\n",
    "            \n",
    "print (findMin(test_string))\n",
    "\n",
    "print (findMin(test_list))\n",
    "\n",
    "print (findMin((5,2,3,1))) \n",
    "\n",
    "# print (findMin(5,2,3,1)) gives TypeError: findMin() takes 1 positional argument but 4 were given"
   ]
  }
 ],
 "metadata": {
  "kernelspec": {
   "display_name": "Python 3",
   "language": "python",
   "name": "python3"
  },
  "language_info": {
   "codemirror_mode": {
    "name": "ipython",
    "version": 3
   },
   "file_extension": ".py",
   "mimetype": "text/x-python",
   "name": "python",
   "nbconvert_exporter": "python",
   "pygments_lexer": "ipython3",
   "version": "3.6.4"
  }
 },
 "nbformat": 4,
 "nbformat_minor": 2
}
