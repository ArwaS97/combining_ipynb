{
 "cells": [
  {
   "cell_type": "markdown",
   "metadata": {},
   "source": [
    "# Problem 5"
   ]
  },
  {
   "cell_type": "markdown",
   "metadata": {},
   "source": [
    "You're a forest ranger trying to keep people safe in the 100 square miles of national park you cover.  While at work, you get a distress call from some campers that went into the park yesterday; unfortunately, the campers couldn't tell you which campsite they were currently calling from.  You need to send out your small army of deputy rangers to find the distressed campers."
   ]
  },
  {
   "cell_type": "markdown",
   "metadata": {},
   "source": [
    "The model for our park is a grid in 2 dimensional space with ranger station at (0,0) in our coordinate space extending up and to the right 10 \"miles\" in each direction to form a box bounded by the points (0,0), (10,0), (0,10), and (10,10).\n",
    "\n",
    "Your task is to write a function that recursively searches for our lost campers at some (x,y) coordinates lost somewhere in the park.  Your deputy rangers start by searching the point (0,0).  If the deputies find the distressed campers, they radio in that location.  If the campers are not found, half of your rangers go north to (0,1), and half go east to (1,0) where both groups search again and report back if they find the campers.\n",
    "\n",
    "This process repeats with rangers going north and east until all the squares from (0,0) to (10,10) have been searched and the campers have been found.  The x,y coordinates of the distresed campers are guaranteed to be integers, and guaranteed to be between 0 and 10.\n",
    "\n",
    "#### Sources:\n",
    "http://www.laurentluce.com/posts/solving-mazes-using-python-simple-recursivity-and-a-search/\n",
    "\n",
    "#### Comments:\n",
    "My recursive search function doesn't search in exactly the way described above - I couldn't figure out how to do that."
   ]
  },
  {
   "cell_type": "code",
   "execution_count": 1,
   "metadata": {},
   "outputs": [
    {
     "name": "stdout",
     "output_type": "stream",
     "text": [
      "(4, 4)\n"
     ]
    }
   ],
   "source": [
    "import random\n",
    "distress_location = random.randint(1,10),random.randint(1,10)\n",
    "print (distress_location)"
   ]
  },
  {
   "cell_type": "code",
   "execution_count": 2,
   "metadata": {},
   "outputs": [
    {
     "data": {
      "text/plain": [
       "(4, 4)"
      ]
     },
     "execution_count": 2,
     "metadata": {},
     "output_type": "execute_result"
    }
   ],
   "source": [
    "searched = []\n",
    "\n",
    "def search(current_location = (0,0)):\n",
    "    x, y = current_location[0], current_location[1]\n",
    "    #print (\"current location= \", current_location)\n",
    "        \n",
    "    if current_location == distress_location:\n",
    "        return current_location\n",
    "    \n",
    "    else:\n",
    "        searched.append (current_location)\n",
    "        # only searches the next location if it hasn't been searched yet\n",
    "        # and makes sure to only search within the (0,0) to (10,10) grid\n",
    "        return (((x < 10 and (x+1, y) not in searched) and search((x+1, y))) \\\n",
    "                or ((y < 10 and (x, y + 1) not in searched) and search ((x, y + 1)))\\\n",
    "                or ((x > 0 and (x - 1, y) not in searched) and search ((x - 1, y)))\\\n",
    "                or ((y > 0 and (x - 1, y) not in searched) and search ((x, y - 1)))\\\n",
    "               )\n",
    "    \n",
    "    \n",
    "        # note to self, example: (True and (5,5)) returns (5,5)\n",
    "            # False and (5,5) returns False\n",
    "            # (5,5) or False returns (5,5)\n",
    "        # so will return the value from whichever search function is successful\n",
    "            # if we set distress location outside of the grid range, will return False\n",
    "        \n",
    "search()"
   ]
  },
  {
   "cell_type": "code",
   "execution_count": 3,
   "metadata": {},
   "outputs": [
    {
     "data": {
      "text/plain": [
       "((4, 4), (4, 4))"
      ]
     },
     "execution_count": 3,
     "metadata": {},
     "output_type": "execute_result"
    }
   ],
   "source": [
    "# The output of  search function matches the distress_location\n",
    "search(),distress_location"
   ]
  }
 ],
 "metadata": {
  "kernelspec": {
   "display_name": "Python 3",
   "language": "python",
   "name": "python3"
  },
  "language_info": {
   "codemirror_mode": {
    "name": "ipython",
    "version": 3
   },
   "file_extension": ".py",
   "mimetype": "text/x-python",
   "name": "python",
   "nbconvert_exporter": "python",
   "pygments_lexer": "ipython3",
   "version": "3.6.4"
  }
 },
 "nbformat": 4,
 "nbformat_minor": 1
}
